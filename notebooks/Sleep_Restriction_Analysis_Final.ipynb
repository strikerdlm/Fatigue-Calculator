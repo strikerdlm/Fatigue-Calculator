# Import required libraries
import numpy as np
import matplotlib.pyplot as plt
import pandas as pd
import seaborn as sns
from fatigue_calculator.core import enhanced_simulate_cognitive_performance
from IPython.display import Image, display
import warnings
warnings.filterwarnings('ignore')

print("Sleep Restriction Analysis - Enhanced 2025 Research Edition")
print("=" * 60)
print("Libraries loaded successfully!")# Sleep Restriction Analysis: Impact on Alertness Over 7 Days

## Enhanced 2025 Research Edition

This notebook demonstrates the effects of different sleep durations (1-7 hours) on cognitive performance and alertness over a 7-day period using the enhanced fatigue calculator with the latest 2024 scientific research.

### Key Features
- **Enhanced homeostatic process** with adenosine dynamics
- **Circadian rhythm modeling** with chronotype effects  
- **Sleep debt accumulation** and recovery patterns
- **Individual differences** in sleep sensitivity
- **Comprehensive analysis** with multiple visualizations

### Simulation Parameters
- **Duration**: 7 days (168 hours)
- **Sleep durations**: 1, 2, 3, 4, 5, 6, 7 hours per night
- **Sleep quality**: 0.7 (fair quality)
- **Work schedule**: 9:00 AM - 5:00 PM 
- **Cognitive load**: Moderate (rating = 1)
- **Individual profile**: Average person (default genetic factors)